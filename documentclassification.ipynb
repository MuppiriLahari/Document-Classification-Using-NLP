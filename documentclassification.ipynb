{
 "cells": [
  {
   "cell_type": "code",
   "execution_count": 1,
   "id": "f4eb3e50",
   "metadata": {},
   "outputs": [],
   "source": [
    "from subprocess import Popen, PIPE\n",
    "from pdfminer.pdfinterp import PDFResourceManager, PDFPageInterpreter\n",
    "from pdfminer.converter import TextConverter\n",
    "from pdfminer.layout import LAParams\n",
    "from pdfminer.pdfpage import PDFPage\n",
    "import io\n",
    "from io import StringIO\n",
    "import os\n",
    "import glob\n",
    "import docx\n",
    "import comtypes.client\n",
    "import sys\n",
    "import string\n",
    "from nltk.corpus import stopwords\n",
    "import matplotlib.pyplot as plt\n",
    "from nltk.stem import WordNetLemmatizer\n",
    "import warnings\n",
    "warnings.filterwarnings('ignore')"
   ]
  },
  {
   "cell_type": "markdown",
   "id": "c8cd76d8",
   "metadata": {},
   "source": [
    "pip install jupyter-docx-bundler"
   ]
  },
  {
   "cell_type": "markdown",
   "id": "6dad22c6",
   "metadata": {},
   "source": [
    "pip install python-docx --user"
   ]
  },
  {
   "cell_type": "markdown",
   "id": "9d677bea",
   "metadata": {},
   "source": [
    "pip install comtypes"
   ]
  },
  {
   "cell_type": "code",
   "execution_count": 3,
   "id": "6926165c",
   "metadata": {},
   "outputs": [],
   "source": [
    "wdFormatPDF = 17 # selecting the PDF format \n",
    "\n",
    "filelocation = 'C:/Users/muppi/OneDrive/Desktop/c/RawData'\n",
    "\n",
    "filelist=os.listdir(filelocation)\n",
    "doccollection=[]\n",
    "for files in filelist: #Traversing through all the files in the location to find the doc files\n",
    "    files=os.path.join(filelocation,files)\n",
    "    doccollection.append(files)\n",
    "for x in doccollection:\n",
    "    if x.endswith('.doc'):\n",
    "        word = comtypes.client.CreateObject('Word.Application')\n",
    "        doc = word.Documents.Open(os.path.abspath(x))\n",
    "        doc.SaveAs(os.path.abspath(x+'.pdf'), FileFormat=wdFormatPDF)\n",
    "        doc.Close()\n",
    "        word.Quit()"
   ]
  },
  {
   "cell_type": "code",
   "execution_count": 4,
   "id": "acd5f5cc",
   "metadata": {},
   "outputs": [],
   "source": [
    "import pandas as pd\n",
    "def convert_pdf_to_txt(path):\n",
    "    filelist=os.listdir(path)\n",
    "    documentcollection=[]\n",
    "    for files in filelist:\n",
    "        files=os.path.join(path,files)\n",
    "        documentcollection.append(files)\n",
    "    for ifiles in documentcollection:\n",
    "        if ifiles.endswith('.pdf') or ifiles.endswith('.PDF'): #different extensions on the raw data\n",
    "            with open(ifiles, 'rb') as fh:\n",
    "                for page in PDFPage.get_pages(fh, \n",
    "                                              caching=True,\n",
    "                                              check_extractable=True):\n",
    "                    resource_manager = PDFResourceManager()\n",
    "                    fake_file_handle = io.StringIO()\n",
    "                    converter = TextConverter(resource_manager, fake_file_handle)\n",
    "                    page_interpreter = PDFPageInterpreter(resource_manager, converter)\n",
    "                    page_interpreter.process_page(page)\n",
    " \n",
    "                    text = fake_file_handle.getvalue() # extraction of the text data\n",
    "                    yield text\n",
    " \n",
    "                    # closing open handles\n",
    "                    converter.close()\n",
    "                    fake_file_handle.close()"
   ]
  },
  {
   "cell_type": "code",
   "execution_count": 5,
   "id": "cb11423c",
   "metadata": {},
   "outputs": [],
   "source": [
    "filepath='C:/Users/muppi/OneDrive/Desktop/c/RawData/Taxes'\n",
    "textcontents = convert_pdf_to_txt(filepath)\n",
    "dftaxes = pd.DataFrame(textcontents, columns = ['Text_Data']) \n",
    "dftaxes['Category'] = 'Taxes' # Adding the taxes label"
   ]
  },
  {
   "cell_type": "code",
   "execution_count": 6,
   "id": "284ffed3",
   "metadata": {},
   "outputs": [],
   "source": [
    "# Pre-processing the extracted textual data\n",
    "dftaxes['Text_Data'] = dftaxes['Text_Data'].apply(lambda x: \" \".join(x.lower() for x in x.split())) # lower case conversion\n",
    "dftaxes['Text_Data'] = dftaxes['Text_Data'].str.replace('[^\\w\\s]','') # getting rid of special characters\n",
    "dftaxes['Text_Data'] = dftaxes['Text_Data'].str.replace('\\d+', '') # removing numeric values from between the words\n",
    "dftaxes['Text_Data'] = dftaxes['Text_Data'].apply(lambda x: x.translate(string.digits)) # removing numerical numbers\n",
    "stop = stopwords.words('english')\n",
    "dftaxes['Text_Data'] = dftaxes['Text_Data'].apply(lambda x: \" \".join(x for x in x.split() if x not in stop)) #removing stop words\n",
    "stemmer = WordNetLemmatizer()\n",
    "dftaxes['Text_Data'] = [stemmer.lemmatize(word) for word in dftaxes['Text_Data']] #converting words to their dictionary form\n",
    "dftaxes['Text_Data'] = dftaxes['Text_Data'].str.replace('shall', '')"
   ]
  },
  {
   "cell_type": "code",
   "execution_count": 7,
   "id": "26b03912",
   "metadata": {},
   "outputs": [
    {
     "data": {
      "image/png": "[encoded data removed]",
      "text/plain": [
       "<Figure size 640x480 with 1 Axes>"
      ]
     },
     "metadata": {},
     "output_type": "display_data"
    }
   ],
   "source": [
    "\n",
    "taxfreq = pd.Series(' '.join(dftaxes['Text_Data']).split()).value_counts()[:5]\n",
    "taxfreq.plot(kind='barh');\n",
    "plt.show()"
   ]
  },
  {
   "cell_type": "code",
   "execution_count": 8,
   "id": "8effaa98",
   "metadata": {},
   "outputs": [
    {
     "data": {
      "text/html": [
       "<div>\n",
       "<style scoped>\n",
       "    .dataframe tbody tr th:only-of-type {\n",
       "        vertical-align: middle;\n",
       "    }\n",
       "\n",
       "    .dataframe tbody tr th {\n",
       "        vertical-align: top;\n",
       "    }\n",
       "\n",
       "    .dataframe thead th {\n",
       "        text-align: right;\n",
       "    }\n",
       "</style>\n",
       "<table border=\"1\" class=\"dataframe\">\n",
       "  <thead>\n",
       "    <tr style=\"text-align: right;\">\n",
       "      <th></th>\n",
       "      <th>Text_Data</th>\n",
       "      <th>Category</th>\n",
       "      <th>Identifiers</th>\n",
       "    </tr>\n",
       "  </thead>\n",
       "  <tbody>\n",
       "    <tr>\n",
       "      <th>0</th>\n",
       "      <td>tax indemnity agreement tax indemnity agreemen...</td>\n",
       "      <td>Taxes</td>\n",
       "      <td>tax,agreement,section,group,date</td>\n",
       "    </tr>\n",
       "    <tr>\n",
       "      <th>1</th>\n",
       "      <td>factor ii acquisition price series c share iss...</td>\n",
       "      <td>Taxes</td>\n",
       "      <td>tax,agreement,section,group,date</td>\n",
       "    </tr>\n",
       "    <tr>\n",
       "      <th>2</th>\n",
       "      <td>earnout dilution factor means respect earnout ...</td>\n",
       "      <td>Taxes</td>\n",
       "      <td>tax,agreement,section,group,date</td>\n",
       "    </tr>\n",
       "    <tr>\n",
       "      <th>3</th>\n",
       "      <td>turn appoint third appraiser  determine fair v...</td>\n",
       "      <td>Taxes</td>\n",
       "      <td>tax,agreement,section,group,date</td>\n",
       "    </tr>\n",
       "    <tr>\n",
       "      <th>4</th>\n",
       "      <td>way diminution value notwithstanding anything ...</td>\n",
       "      <td>Taxes</td>\n",
       "      <td>tax,agreement,section,group,date</td>\n",
       "    </tr>\n",
       "  </tbody>\n",
       "</table>\n",
       "</div>"
      ],
      "text/plain": [
       "                                           Text_Data Category  \\\n",
       "0  tax indemnity agreement tax indemnity agreemen...    Taxes   \n",
       "1  factor ii acquisition price series c share iss...    Taxes   \n",
       "2  earnout dilution factor means respect earnout ...    Taxes   \n",
       "3  turn appoint third appraiser  determine fair v...    Taxes   \n",
       "4  way diminution value notwithstanding anything ...    Taxes   \n",
       "\n",
       "                        Identifiers  \n",
       "0  tax,agreement,section,group,date  \n",
       "1  tax,agreement,section,group,date  \n",
       "2  tax,agreement,section,group,date  \n",
       "3  tax,agreement,section,group,date  \n",
       "4  tax,agreement,section,group,date  "
      ]
     },
     "execution_count": 8,
     "metadata": {},
     "output_type": "execute_result"
    }
   ],
   "source": [
    "dftaxes['Identifiers'] = 'tax,agreement,section,group,date'\n",
    "dftaxes[:5]"
   ]
  },
  {
   "cell_type": "code",
   "execution_count": 9,
   "id": "52aa1a52",
   "metadata": {},
   "outputs": [],
   "source": [
    "filepath='C:/Users/muppi/OneDrive/Desktop/c/RawData/Agreements'\n",
    "agreementcontents = convert_pdf_to_txt(filepath)\n",
    "dfagreement = pd.DataFrame(agreementcontents, columns = ['Text_Data']) \n",
    "dfagreement['Category'] = 'Agreement'"
   ]
  },
  {
   "cell_type": "code",
   "execution_count": 10,
   "id": "c7f18739",
   "metadata": {},
   "outputs": [],
   "source": [
    "dfagreement['Text_Data'] = dfagreement['Text_Data'].apply(lambda x: \" \".join(x.lower() for x in x.split()))\n",
    "dfagreement['Text_Data'] = dfagreement['Text_Data'].str.replace('[^\\w\\s]','')\n",
    "dfagreement['Text_Data'] = dfagreement['Text_Data'].str.replace('\\d+', '') # remove numeric values from between the words\n",
    "dfagreement['Text_Data'] = dfagreement['Text_Data'].apply(lambda x: x.translate(string.digits))\n",
    "stop = stopwords.words('english')\n",
    "dfagreement['Text_Data'] = dfagreement['Text_Data'].apply(lambda x: \" \".join(x for x in x.split() if x not in stop))\n",
    "stemmer = WordNetLemmatizer()\n",
    "dfagreement['Text_Data'] = [stemmer.lemmatize(word) for word in dfagreement['Text_Data']]\n",
    "dfagreement['Text_Data'] = dfagreement['Text_Data'].str.replace('shall', '')"
   ]
  },
  {
   "cell_type": "code",
   "execution_count": 11,
   "id": "8c2a4792",
   "metadata": {},
   "outputs": [
    {
     "data": {
      "image/png": "[encoded data removed]",
      "text/plain": [
       "<Figure size 640x480 with 1 Axes>"
      ]
     },
     "metadata": {},
     "output_type": "display_data"
    }
   ],
   "source": [
    "agfreq = pd.Series(' '.join(dfagreement['Text_Data']).split()).value_counts()[:5]\n",
    "agfreq.plot(kind='barh');\n",
    "plt.show()"
   ]
  },
  {
   "cell_type": "code",
   "execution_count": 12,
   "id": "94aa2c2c",
   "metadata": {},
   "outputs": [
    {
     "data": {
      "text/html": [
       "<div>\n",
       "<style scoped>\n",
       "    .dataframe tbody tr th:only-of-type {\n",
       "        vertical-align: middle;\n",
       "    }\n",
       "\n",
       "    .dataframe tbody tr th {\n",
       "        vertical-align: top;\n",
       "    }\n",
       "\n",
       "    .dataframe thead th {\n",
       "        text-align: right;\n",
       "    }\n",
       "</style>\n",
       "<table border=\"1\" class=\"dataframe\">\n",
       "  <thead>\n",
       "    <tr style=\"text-align: right;\">\n",
       "      <th></th>\n",
       "      <th>Text_Data</th>\n",
       "      <th>Category</th>\n",
       "      <th>Identifiers</th>\n",
       "    </tr>\n",
       "  </thead>\n",
       "  <tbody>\n",
       "    <tr>\n",
       "      <th>0</th>\n",
       "      <td>agreement xxw amendment agreement among united...</td>\n",
       "      <td>Agreement</td>\n",
       "      <td>agreement,subcontractor,contractor,work,subcon...</td>\n",
       "    </tr>\n",
       "    <tr>\n",
       "      <th>1</th>\n",
       "      <td>act september stat designated colorado river b...</td>\n",
       "      <td>Agreement</td>\n",
       "      <td>agreement,subcontractor,contractor,work,subcon...</td>\n",
       "    </tr>\n",
       "    <tr>\n",
       "      <th>2</th>\n",
       "      <td>section party provides additional funding part...</td>\n",
       "      <td>Agreement</td>\n",
       "      <td>agreement,subcontractor,contractor,work,subcon...</td>\n",
       "    </tr>\n",
       "    <tr>\n",
       "      <th>3</th>\n",
       "      <td>witness whereof parties hereto executed amendm...</td>\n",
       "      <td>Agreement</td>\n",
       "      <td>agreement,subcontractor,contractor,work,subcon...</td>\n",
       "    </tr>\n",
       "    <tr>\n",
       "      <th>4</th>\n",
       "      <td>witness whereof parties hereto executed amendm...</td>\n",
       "      <td>Agreement</td>\n",
       "      <td>agreement,subcontractor,contractor,work,subcon...</td>\n",
       "    </tr>\n",
       "  </tbody>\n",
       "</table>\n",
       "</div>"
      ],
      "text/plain": [
       "                                           Text_Data   Category  \\\n",
       "0  agreement xxw amendment agreement among united...  Agreement   \n",
       "1  act september stat designated colorado river b...  Agreement   \n",
       "2  section party provides additional funding part...  Agreement   \n",
       "3  witness whereof parties hereto executed amendm...  Agreement   \n",
       "4  witness whereof parties hereto executed amendm...  Agreement   \n",
       "\n",
       "                                         Identifiers  \n",
       "0  agreement,subcontractor,contractor,work,subcon...  \n",
       "1  agreement,subcontractor,contractor,work,subcon...  \n",
       "2  agreement,subcontractor,contractor,work,subcon...  \n",
       "3  agreement,subcontractor,contractor,work,subcon...  \n",
       "4  agreement,subcontractor,contractor,work,subcon...  "
      ]
     },
     "execution_count": 12,
     "metadata": {},
     "output_type": "execute_result"
    }
   ],
   "source": [
    "dfagreement['Identifiers'] = 'agreement,subcontractor,contractor,work,subcontract'\n",
    "dfagreement[:5]"
   ]
  },
  {
   "cell_type": "code",
   "execution_count": 13,
   "id": "48ed0554",
   "metadata": {},
   "outputs": [],
   "source": [
    "filepath='C:/Users/muppi/OneDrive/Desktop/c/RawData/Deeds'\n",
    "deedscontents = convert_pdf_to_txt(filepath)\n",
    "dfdeeds = pd.DataFrame(deedscontents, columns = ['Text_Data']) \n",
    "dfdeeds['Category'] = 'Deeds'"
   ]
  },
  {
   "cell_type": "code",
   "execution_count": 14,
   "id": "c306e634",
   "metadata": {},
   "outputs": [],
   "source": [
    "dfdeeds['Text_Data'] = dfdeeds['Text_Data'].apply(lambda x: \" \".join(x.lower() for x in x.split()))\n",
    "dfdeeds['Text_Data'] = dfdeeds['Text_Data'].str.replace('[^\\w\\s]','')\n",
    "dfdeeds['Text_Data'] = dfdeeds['Text_Data'].str.replace('\\d+', '') # remove numeric values from between the words\n",
    "dfdeeds['Text_Data'] = dfdeeds['Text_Data'].apply(lambda x: x.translate(string.digits))\n",
    "stop = stopwords.words('english')\n",
    "dfdeeds['Text_Data'] = dfdeeds['Text_Data'].apply(lambda x: \" \".join(x for x in x.split() if x not in stop))\n",
    "stemmer = WordNetLemmatizer()\n",
    "dfdeeds['Text_Data'] = [stemmer.lemmatize(word) for word in dfdeeds['Text_Data']]\n",
    "dfdeeds['Text_Data'] = dfdeeds['Text_Data'].str.replace('shall', '')"
   ]
  },
  {
   "cell_type": "code",
   "execution_count": 15,
   "id": "1de25704",
   "metadata": {},
   "outputs": [
    {
     "data": {
      "image/png": "[encoded data removed]",
      "text/plain": [
       "<Figure size 640x480 with 1 Axes>"
      ]
     },
     "metadata": {},
     "output_type": "display_data"
    }
   ],
   "source": [
    "dfreq = pd.Series(' '.join(dfdeeds['Text_Data']).split()).value_counts()[:5]\n",
    "dfreq.plot(kind='barh');\n",
    "plt.show()"
   ]
  },
  {
   "cell_type": "code",
   "execution_count": 16,
   "id": "1c1393a7",
   "metadata": {},
   "outputs": [
    {
     "data": {
      "text/html": [
       "<div>\n",
       "<style scoped>\n",
       "    .dataframe tbody tr th:only-of-type {\n",
       "        vertical-align: middle;\n",
       "    }\n",
       "\n",
       "    .dataframe tbody tr th {\n",
       "        vertical-align: top;\n",
       "    }\n",
       "\n",
       "    .dataframe thead th {\n",
       "        text-align: right;\n",
       "    }\n",
       "</style>\n",
       "<table border=\"1\" class=\"dataframe\">\n",
       "  <thead>\n",
       "    <tr style=\"text-align: right;\">\n",
       "      <th></th>\n",
       "      <th>Text_Data</th>\n",
       "      <th>Category</th>\n",
       "      <th>Identifiers</th>\n",
       "    </tr>\n",
       "  </thead>\n",
       "  <tbody>\n",
       "    <tr>\n",
       "      <th>0</th>\n",
       "      <td>sample deed trust deed trust definitions words...</td>\n",
       "      <td>Deeds</td>\n",
       "      <td>property,borrower,lender,security,beneficiary</td>\n",
       "    </tr>\n",
       "    <tr>\n",
       "      <th>1</th>\n",
       "      <td>cid adjustable rate rider cid condominium ride...</td>\n",
       "      <td>Deeds</td>\n",
       "      <td>property,borrower,lender,security,beneficiary</td>\n",
       "    </tr>\n",
       "    <tr>\n",
       "      <th>2</th>\n",
       "      <td>q successor interest borrower means party take...</td>\n",
       "      <td>Deeds</td>\n",
       "      <td>property,borrower,lender,security,beneficiary</td>\n",
       "    </tr>\n",
       "    <tr>\n",
       "      <th>3</th>\n",
       "      <td>check drawn upon institution whose deposits in...</td>\n",
       "      <td>Deeds</td>\n",
       "      <td>property,borrower,lender,security,beneficiary</td>\n",
       "    </tr>\n",
       "    <tr>\n",
       "      <th>4</th>\n",
       "      <td>b leasehold payments ground rents property c p...</td>\n",
       "      <td>Deeds</td>\n",
       "      <td>property,borrower,lender,security,beneficiary</td>\n",
       "    </tr>\n",
       "  </tbody>\n",
       "</table>\n",
       "</div>"
      ],
      "text/plain": [
       "                                           Text_Data Category  \\\n",
       "0  sample deed trust deed trust definitions words...    Deeds   \n",
       "1  cid adjustable rate rider cid condominium ride...    Deeds   \n",
       "2  q successor interest borrower means party take...    Deeds   \n",
       "3  check drawn upon institution whose deposits in...    Deeds   \n",
       "4  b leasehold payments ground rents property c p...    Deeds   \n",
       "\n",
       "                                     Identifiers  \n",
       "0  property,borrower,lender,security,beneficiary  \n",
       "1  property,borrower,lender,security,beneficiary  \n",
       "2  property,borrower,lender,security,beneficiary  \n",
       "3  property,borrower,lender,security,beneficiary  \n",
       "4  property,borrower,lender,security,beneficiary  "
      ]
     },
     "execution_count": 16,
     "metadata": {},
     "output_type": "execute_result"
    }
   ],
   "source": [
    "dfdeeds['Identifiers'] = 'property,borrower,lender,security,beneficiary'\n",
    "dfdeeds[:5]"
   ]
  },
  {
   "cell_type": "code",
   "execution_count": 17,
   "id": "cb395ec8",
   "metadata": {},
   "outputs": [],
   "source": [
    "filepath='C:/Users/muppi/OneDrive/Desktop/c/RawData/Valuations'\n",
    "valuationcontents = convert_pdf_to_txt(filepath)\n",
    "dfvaluation = pd.DataFrame(valuationcontents, columns = ['Text_Data']) \n",
    "dfvaluation['Category'] = 'Valuations'"
   ]
  },
  {
   "cell_type": "code",
   "execution_count": 18,
   "id": "1db9c545",
   "metadata": {},
   "outputs": [],
   "source": [
    "dfvaluation['Text_Data'] = dfvaluation['Text_Data'].apply(lambda x: \" \".join(x.lower() for x in x.split()))\n",
    "dfvaluation['Text_Data'] = dfvaluation['Text_Data'].str.replace('[^\\w\\s]','')\n",
    "dfvaluation['Text_Data'] = dfvaluation['Text_Data'].str.replace('\\d+', '') # remove numeric values from between the words\n",
    "dfvaluation['Text_Data'] = dfvaluation['Text_Data'].apply(lambda x: x.translate(string.digits))\n",
    "stop = stopwords.words('english')\n",
    "stemmer = WordNetLemmatizer()\n",
    "dfvaluation['Text_Data'] = [stemmer.lemmatize(word) for word in dfvaluation['Text_Data']]\n",
    "dfvaluation['Text_Data'] = dfvaluation['Text_Data'].apply(lambda x: \" \".join(x for x in x.split() if x not in stop))"
   ]
  },
  {
   "cell_type": "code",
   "execution_count": 19,
   "id": "a643a685",
   "metadata": {},
   "outputs": [
    {
     "data": {
      "image/png": "[encoded data removed]",
      "text/plain": [
       "<Figure size 640x480 with 1 Axes>"
      ]
     },
     "metadata": {},
     "output_type": "display_data"
    }
   ],
   "source": [
    "valfreq = pd.Series(' '.join(dfvaluation['Text_Data']).split()).value_counts()[:5]\n",
    "valfreq.plot(kind='barh');\n",
    "plt.show()"
   ]
  },
  {
   "cell_type": "code",
   "execution_count": 20,
   "id": "0cecb557",
   "metadata": {},
   "outputs": [
    {
     "data": {
      "text/html": [
       "<div>\n",
       "<style scoped>\n",
       "    .dataframe tbody tr th:only-of-type {\n",
       "        vertical-align: middle;\n",
       "    }\n",
       "\n",
       "    .dataframe tbody tr th {\n",
       "        vertical-align: top;\n",
       "    }\n",
       "\n",
       "    .dataframe thead th {\n",
       "        text-align: right;\n",
       "    }\n",
       "</style>\n",
       "<table border=\"1\" class=\"dataframe\">\n",
       "  <thead>\n",
       "    <tr style=\"text-align: right;\">\n",
       "      <th></th>\n",
       "      <th>Text_Data</th>\n",
       "      <th>Category</th>\n",
       "      <th>Identifiers</th>\n",
       "    </tr>\n",
       "  </thead>\n",
       "  <tbody>\n",
       "    <tr>\n",
       "      <th>0</th>\n",
       "      <td>valuation reportbusiness valuation trends stra...</td>\n",
       "      <td>Valuations</td>\n",
       "      <td>valuation,value,report,market,level</td>\n",
       "    </tr>\n",
       "    <tr>\n",
       "      <th>1</th>\n",
       "      <td>valuation report spring technical topicsthe im...</td>\n",
       "      <td>Valuations</td>\n",
       "      <td>valuation,value,report,market,level</td>\n",
       "    </tr>\n",
       "    <tr>\n",
       "      <th>2</th>\n",
       "      <td>spring valuation reportlitigation update dlom ...</td>\n",
       "      <td>Valuations</td>\n",
       "      <td>valuation,value,report,market,level</td>\n",
       "    </tr>\n",
       "    <tr>\n",
       "      <th>3</th>\n",
       "      <td>publication distributed understanding author p...</td>\n",
       "      <td>Valuations</td>\n",
       "      <td>valuation,value,report,market,level</td>\n",
       "    </tr>\n",
       "    <tr>\n",
       "      <th>4</th>\n",
       "      <td>november actuarialvaluationreportguaranteededu...</td>\n",
       "      <td>Valuations</td>\n",
       "      <td>valuation,value,report,market,level</td>\n",
       "    </tr>\n",
       "  </tbody>\n",
       "</table>\n",
       "</div>"
      ],
      "text/plain": [
       "                                           Text_Data    Category  \\\n",
       "0  valuation reportbusiness valuation trends stra...  Valuations   \n",
       "1  valuation report spring technical topicsthe im...  Valuations   \n",
       "2  spring valuation reportlitigation update dlom ...  Valuations   \n",
       "3  publication distributed understanding author p...  Valuations   \n",
       "4  november actuarialvaluationreportguaranteededu...  Valuations   \n",
       "\n",
       "                           Identifiers  \n",
       "0  valuation,value,report,market,level  \n",
       "1  valuation,value,report,market,level  \n",
       "2  valuation,value,report,market,level  \n",
       "3  valuation,value,report,market,level  \n",
       "4  valuation,value,report,market,level  "
      ]
     },
     "execution_count": 20,
     "metadata": {},
     "output_type": "execute_result"
    }
   ],
   "source": [
    "dfvaluation['Identifiers'] = 'valuation,value,report,market,level'\n",
    "dfvaluation[:5]"
   ]
  },
  {
   "cell_type": "code",
   "execution_count": 21,
   "id": "a3610d5f",
   "metadata": {},
   "outputs": [],
   "source": [
    "filepath='C:/Users/muppi/OneDrive/Desktop/c/RawData/Human Resources'\n",
    "hrcontents = convert_pdf_to_txt(filepath)\n",
    "dfhr = pd.DataFrame(hrcontents, columns = ['Text_Data']) \n",
    "dfhr['Category'] = 'Human Resources'"
   ]
  },
  {
   "cell_type": "code",
   "execution_count": 22,
   "id": "980a6296",
   "metadata": {},
   "outputs": [],
   "source": [
    "dfhr['Text_Data'] = dfhr['Text_Data'].apply(lambda x: \" \".join(x.lower() for x in x.split()))\n",
    "dfhr['Text_Data'] = dfhr['Text_Data'].str.replace('[^\\w\\s]','')\n",
    "dfhr['Text_Data'] = dfhr['Text_Data'].str.replace('\\d+', '') # remove numeric values from between the words\n",
    "dfhr['Text_Data'] = dfhr['Text_Data'].apply(lambda x: x.translate(string.digits))\n",
    "stop = stopwords.words('english')\n",
    "dfhr['Text_Data'] = dfhr['Text_Data'].apply(lambda x: \" \".join(x for x in x.split() if x not in stop))\n",
    "stemmer = WordNetLemmatizer()\n",
    "dfhr['Text_Data'] = [stemmer.lemmatize(word) for word in dfhr['Text_Data']]\n",
    "dfhr['Text_Data'] = dfhr['Text_Data'].str.replace('may', '')"
   ]
  },
  {
   "cell_type": "code",
   "execution_count": 23,
   "id": "a71a30da",
   "metadata": {},
   "outputs": [
    {
     "data": {
      "image/png": "[encoded data removed]",
      "text/plain": [
       "<Figure size 640x480 with 1 Axes>"
      ]
     },
     "metadata": {},
     "output_type": "display_data"
    }
   ],
   "source": [
    "hrfreq = pd.Series(' '.join(dfhr['Text_Data']).split()).value_counts()[:5]\n",
    "hrfreq.plot(kind='barh');\n",
    "plt.show()"
   ]
  },
  {
   "cell_type": "code",
   "execution_count": 24,
   "id": "66ed978b",
   "metadata": {},
   "outputs": [
    {
     "data": {
      "text/html": [
       "<div>\n",
       "<style scoped>\n",
       "    .dataframe tbody tr th:only-of-type {\n",
       "        vertical-align: middle;\n",
       "    }\n",
       "\n",
       "    .dataframe tbody tr th {\n",
       "        vertical-align: top;\n",
       "    }\n",
       "\n",
       "    .dataframe thead th {\n",
       "        text-align: right;\n",
       "    }\n",
       "</style>\n",
       "<table border=\"1\" class=\"dataframe\">\n",
       "  <thead>\n",
       "    <tr style=\"text-align: right;\">\n",
       "      <th></th>\n",
       "      <th>Text_Data</th>\n",
       "      <th>Category</th>\n",
       "      <th>Identifiers</th>\n",
       "    </tr>\n",
       "  </thead>\n",
       "  <tbody>\n",
       "    <tr>\n",
       "      <th>0</th>\n",
       "      <td>volunteer coordinators job description general...</td>\n",
       "      <td>Human Resources</td>\n",
       "      <td>plan,coverage,benefits,service,level</td>\n",
       "    </tr>\n",
       "    <tr>\n",
       "      <th>1</th>\n",
       "      <td>cid participate volunteer evaluations assigned...</td>\n",
       "      <td>Human Resources</td>\n",
       "      <td>plan,coverage,benefits,service,level</td>\n",
       "    </tr>\n",
       "    <tr>\n",
       "      <th>2</th>\n",
       "      <td>hiring company name texas ballet theater hirin...</td>\n",
       "      <td>Human Resources</td>\n",
       "      <td>plan,coverage,benefits,service,level</td>\n",
       "    </tr>\n",
       "    <tr>\n",
       "      <th>3</th>\n",
       "      <td>oversee community enrichment citydance outreac...</td>\n",
       "      <td>Human Resources</td>\n",
       "      <td>plan,coverage,benefits,service,level</td>\n",
       "    </tr>\n",
       "    <tr>\n",
       "      <th>4</th>\n",
       "      <td>dynamic energetic creative socially adept demo...</td>\n",
       "      <td>Human Resources</td>\n",
       "      <td>plan,coverage,benefits,service,level</td>\n",
       "    </tr>\n",
       "  </tbody>\n",
       "</table>\n",
       "</div>"
      ],
      "text/plain": [
       "                                           Text_Data         Category  \\\n",
       "0  volunteer coordinators job description general...  Human Resources   \n",
       "1  cid participate volunteer evaluations assigned...  Human Resources   \n",
       "2  hiring company name texas ballet theater hirin...  Human Resources   \n",
       "3  oversee community enrichment citydance outreac...  Human Resources   \n",
       "4  dynamic energetic creative socially adept demo...  Human Resources   \n",
       "\n",
       "                            Identifiers  \n",
       "0  plan,coverage,benefits,service,level  \n",
       "1  plan,coverage,benefits,service,level  \n",
       "2  plan,coverage,benefits,service,level  \n",
       "3  plan,coverage,benefits,service,level  \n",
       "4  plan,coverage,benefits,service,level  "
      ]
     },
     "execution_count": 24,
     "metadata": {},
     "output_type": "execute_result"
    }
   ],
   "source": [
    "dfhr['Identifiers'] = 'plan,coverage,benefits,service,level'\n",
    "dfhr[:5]"
   ]
  },
  {
   "cell_type": "code",
   "execution_count": 25,
   "id": "e2136a61-20cb-4078-a809-1d174756c27e",
   "metadata": {},
   "outputs": [
    {
     "data": {
      "text/html": [
       "<div>\n",
       "<style scoped>\n",
       "    .dataframe tbody tr th:only-of-type {\n",
       "        vertical-align: middle;\n",
       "    }\n",
       "\n",
       "    .dataframe tbody tr th {\n",
       "        vertical-align: top;\n",
       "    }\n",
       "\n",
       "    .dataframe thead th {\n",
       "        text-align: right;\n",
       "    }\n",
       "</style>\n",
       "<table border=\"1\" class=\"dataframe\">\n",
       "  <thead>\n",
       "    <tr style=\"text-align: right;\">\n",
       "      <th></th>\n",
       "      <th>Identifiers</th>\n",
       "      <th>Text_Data</th>\n",
       "      <th>Category</th>\n",
       "    </tr>\n",
       "  </thead>\n",
       "  <tbody>\n",
       "    <tr>\n",
       "      <th>0</th>\n",
       "      <td>tax,agreement,section,group,date</td>\n",
       "      <td>tax indemnity agreement tax indemnity agreemen...</td>\n",
       "      <td>Taxes</td>\n",
       "    </tr>\n",
       "    <tr>\n",
       "      <th>1</th>\n",
       "      <td>tax,agreement,section,group,date</td>\n",
       "      <td>factor ii acquisition price series c share iss...</td>\n",
       "      <td>Taxes</td>\n",
       "    </tr>\n",
       "    <tr>\n",
       "      <th>2</th>\n",
       "      <td>tax,agreement,section,group,date</td>\n",
       "      <td>earnout dilution factor means respect earnout ...</td>\n",
       "      <td>Taxes</td>\n",
       "    </tr>\n",
       "    <tr>\n",
       "      <th>3</th>\n",
       "      <td>tax,agreement,section,group,date</td>\n",
       "      <td>turn appoint third appraiser  determine fair v...</td>\n",
       "      <td>Taxes</td>\n",
       "    </tr>\n",
       "    <tr>\n",
       "      <th>4</th>\n",
       "      <td>tax,agreement,section,group,date</td>\n",
       "      <td>way diminution value notwithstanding anything ...</td>\n",
       "      <td>Taxes</td>\n",
       "    </tr>\n",
       "  </tbody>\n",
       "</table>\n",
       "</div>"
      ],
      "text/plain": [
       "                        Identifiers  \\\n",
       "0  tax,agreement,section,group,date   \n",
       "1  tax,agreement,section,group,date   \n",
       "2  tax,agreement,section,group,date   \n",
       "3  tax,agreement,section,group,date   \n",
       "4  tax,agreement,section,group,date   \n",
       "\n",
       "                                           Text_Data Category  \n",
       "0  tax indemnity agreement tax indemnity agreemen...    Taxes  \n",
       "1  factor ii acquisition price series c share iss...    Taxes  \n",
       "2  earnout dilution factor means respect earnout ...    Taxes  \n",
       "3  turn appoint third appraiser  determine fair v...    Taxes  \n",
       "4  way diminution value notwithstanding anything ...    Taxes  "
      ]
     },
     "execution_count": 25,
     "metadata": {},
     "output_type": "execute_result"
    }
   ],
   "source": [
    "frames = [dftaxes, dfagreement, dfdeeds, dfvaluation, dfhr]\n",
    "finalframe = pd.concat(frames,sort=False)\n",
    "finalframe = finalframe[['Identifiers','Text_Data','Category']]\n",
    "finalframe = finalframe.reset_index(drop=True)\n",
    "finalframe[:5]"
   ]
  },
  {
   "cell_type": "code",
   "execution_count": 26,
   "id": "bd7cd415-acaa-426b-8512-10b88d5023f3",
   "metadata": {},
   "outputs": [
    {
     "data": {
      "image/png": "[encoded data removed]",
      "text/plain": [
       "<Figure size 1000x400 with 1 Axes>"
      ]
     },
     "metadata": {},
     "output_type": "display_data"
    }
   ],
   "source": [
    "import matplotlib.pyplot as plt\n",
    "my_tags = ['Agreements','Deeds','Taxes','Human Resources','Valuations']\n",
    "plt.figure(figsize=(10,4))\n",
    "finalframe.Category.value_counts().plot(kind='bar');\n",
    "plt.show()"
   ]
  },
  {
   "cell_type": "code",
   "execution_count": 27,
   "id": "664ee462-69e8-4c2b-b131-9a839c0186c9",
   "metadata": {},
   "outputs": [
    {
     "name": "stdout",
     "output_type": "stream",
     "text": [
      "   0         1    2    3    4         5         6    7         8    9    ...  \\\n",
      "0  0.0  0.000000  0.0  0.0  0.0  0.000000  0.000000  0.0  0.000000  0.0  ...   \n",
      "1  0.0  0.000000  0.0  0.0  0.0  0.000000  0.075627  0.0  0.000000  0.0  ...   \n",
      "2  0.0  0.077873  0.0  0.0  0.0  0.057588  0.000000  0.0  0.000000  0.0  ...   \n",
      "3  0.0  0.000000  0.0  0.0  0.0  0.000000  0.000000  0.0  0.000000  0.0  ...   \n",
      "4  0.0  0.000000  0.0  0.0  0.0  0.000000  0.000000  0.0  0.061452  0.0  ...   \n",
      "\n",
      "   990  991       992       993  994  995  996  997  998  999  \n",
      "0  0.0  0.0  0.000000  0.000000  0.0  0.0  0.0  0.0  0.0  0.0  \n",
      "1  0.0  0.0  0.000000  0.000000  0.0  0.0  0.0  0.0  0.0  0.0  \n",
      "2  0.0  0.0  0.000000  0.062047  0.0  0.0  0.0  0.0  0.0  0.0  \n",
      "3  0.0  0.0  0.000000  0.059795  0.0  0.0  0.0  0.0  0.0  0.0  \n",
      "4  0.0  0.0  0.042755  0.000000  0.0  0.0  0.0  0.0  0.0  0.0  \n",
      "\n",
      "[5 rows x 1000 columns]\n"
     ]
    }
   ],
   "source": [
    "from sklearn.feature_extraction.text import TfidfVectorizer  \n",
    "from sklearn.preprocessing import LabelEncoder\n",
    "# Generating 1000 features for the input for the model\n",
    "tfidfconverter = TfidfVectorizer(max_features=1000, stop_words=stopwords.words('english')) \n",
    "X = pd.DataFrame(tfidfconverter.fit_transform(finalframe['Text_Data']).toarray())\n",
    "print(X[:5])\n",
    "#X.columns = range(X.shape[1])\n",
    "labelencoder = LabelEncoder() #Converting the labels to numeric labels\n",
    "y = labelencoder.fit_transform(finalframe['Category'])"
   ]
  },
  {
   "cell_type": "code",
   "execution_count": 28,
   "id": "091ecd01-5478-4638-bfa8-be6c3af2489e",
   "metadata": {},
   "outputs": [],
   "source": [
    "from sklearn.model_selection import train_test_split \n",
    "X_train, X_test, y_train, y_test = train_test_split(X, y, test_size=0.3, random_state=0)  "
   ]
  },
  {
   "cell_type": "code",
   "execution_count": 29,
   "id": "1d679216-ae79-49b4-86ae-c1c917925897",
   "metadata": {},
   "outputs": [],
   "source": [
    "from imblearn.over_sampling import RandomOverSampler\n",
    "ros = RandomOverSampler(random_state=1)\n",
    "X_resampled, y_resampled = ros.fit_resample(X, y)"
   ]
  },
  {
   "cell_type": "code",
   "execution_count": 30,
   "id": "4d280f06-3e20-43d0-90dc-24a31f6b0cb8",
   "metadata": {},
   "outputs": [
    {
     "name": "stdout",
     "output_type": "stream",
     "text": [
      "[[  0 807]\n",
      " [  1 807]\n",
      " [  2 807]\n",
      " [  3 807]\n",
      " [  4 807]]\n"
     ]
    }
   ],
   "source": [
    "import numpy as np\n",
    "unique, counts = np.unique(y_resampled, return_counts=True)\n",
    "print(np.asarray((unique, counts)).T)"
   ]
  },
  {
   "cell_type": "code",
   "execution_count": 31,
   "id": "c1c8fc91-58ce-4ee1-bd8c-085193b442e8",
   "metadata": {},
   "outputs": [],
   "source": [
    "from sklearn.model_selection import train_test_split \n",
    "X_train, X_test, y_train, y_test = train_test_split(X_resampled, y_resampled, test_size=0.2, random_state=0)  "
   ]
  },
  {
   "cell_type": "code",
   "execution_count": 32,
   "id": "158de9be-0da4-4b36-bd39-5ac7fb0dc747",
   "metadata": {},
   "outputs": [],
   "source": [
    "from sklearn.ensemble import RandomForestClassifier\n",
    "from sklearn import preprocessing\n",
    "classifier = RandomForestClassifier(n_estimators=1200, random_state=1)  #defining 1000 nodes \n",
    "rf = classifier.fit(X_train, y_train)  \n",
    "y_pred = classifier.predict(X_test) "
   ]
  },
  {
   "cell_type": "code",
   "execution_count": 33,
   "id": "5ddcb72f-6d2a-494f-a26c-d463274e6936",
   "metadata": {},
   "outputs": [
    {
     "name": "stdout",
     "output_type": "stream",
     "text": [
      "Accuracy: 0.9405204460966543\n",
      "                 precision    recall  f1-score   support\n",
      "\n",
      "     Agreements       0.79      1.00      0.88       163\n",
      "          Deeds       0.99      0.99      0.99       166\n",
      "          Taxes       1.00      0.79      0.88       151\n",
      "Human Resources       0.98      0.97      0.98       151\n",
      "     Valuations       1.00      0.94      0.97       176\n",
      "\n",
      "       accuracy                           0.94       807\n",
      "      macro avg       0.95      0.94      0.94       807\n",
      "   weighted avg       0.95      0.94      0.94       807\n",
      "\n",
      "Confusion matrix:\n",
      " [[163   0   0   0   0]\n",
      " [  2 164   0   0   0]\n",
      " [ 29   0 119   3   0]\n",
      " [  4   0   0 147   0]\n",
      " [  8   2   0   0 166]]\n"
     ]
    },
    {
     "data": {
      "image/png": "[encoded data removed]",
      "text/plain": [
       "<Figure size 640x480 with 2 Axes>"
      ]
     },
     "metadata": {},
     "output_type": "display_data"
    }
   ],
   "source": [
    "from sklearn.metrics import classification_report, confusion_matrix, accuracy_score\n",
    "print('Accuracy: %s' % accuracy_score(y_test, y_pred))\n",
    "print(classification_report(y_test,y_pred,target_names=my_tags))  \n",
    "#print(confusion_matrix(y_test,y_pred)) \n",
    "\n",
    "conf_mat = confusion_matrix(y_true=y_test, y_pred=y_pred)\n",
    "print('Confusion matrix:\\n', conf_mat)\n",
    "\n",
    "labels = ['Agreement', 'Deeds','Human Resources','Taxes','Valuations']\n",
    "fig = plt.figure()\n",
    "ax = fig.add_subplot(111)\n",
    "cax = ax.matshow(conf_mat, cmap=plt.cm.Blues)\n",
    "fig.colorbar(cax)\n",
    "ax.set_xticklabels([''] + labels)\n",
    "ax.set_yticklabels([''] + labels)\n",
    "plt.xlabel('Predicted')\n",
    "plt.ylabel('Expected')\n",
    "plt.show()"
   ]
  },
  {
   "cell_type": "code",
   "execution_count": 34,
   "id": "b2423f82-16a2-4b9f-9214-95cfe6fe292d",
   "metadata": {},
   "outputs": [],
   "source": [
    "import pickle\n",
    "import requests\n",
    "import json\n",
    "pickle.dump(rf, open('rfmodel.pkl','wb'))"
   ]
  },
  {
   "cell_type": "code",
   "execution_count": 35,
   "id": "f118497c-b6b3-4fb2-8cf2-9e5043c8c206",
   "metadata": {},
   "outputs": [
    {
     "name": "stdout",
     "output_type": "stream",
     "text": [
      "Accuracy: 0.9231722428748451\n",
      "                 precision    recall  f1-score   support\n",
      "\n",
      "     Agreements       0.96      0.83      0.89       163\n",
      "          Deeds       0.96      0.95      0.95       166\n",
      "          Taxes       0.80      0.98      0.88       151\n",
      "Human Resources       0.96      0.94      0.95       151\n",
      "     Valuations       0.96      0.92      0.94       176\n",
      "\n",
      "       accuracy                           0.92       807\n",
      "      macro avg       0.93      0.92      0.92       807\n",
      "   weighted avg       0.93      0.92      0.92       807\n",
      "\n",
      "Confusion matrix:\n",
      " [[136   2  23   0   2]\n",
      " [  2 157   2   2   3]\n",
      " [  1   0 148   2   0]\n",
      " [  2   1   5 142   1]\n",
      " [  1   3   8   2 162]]\n"
     ]
    },
    {
     "data": {
      "image/png": "[encoded data removed]",
      "text/plain": [
       "<Figure size 640x480 with 2 Axes>"
      ]
     },
     "metadata": {},
     "output_type": "display_data"
    }
   ],
   "source": [
    "from sklearn.naive_bayes import MultinomialNB\n",
    "clf = MultinomialNB().fit(X_train, y_train)\n",
    "\n",
    "y_pred = clf.predict(X_test)\n",
    "print('Accuracy: %s' % accuracy_score(y_pred, y_test))\n",
    "print(classification_report(y_test, y_pred,target_names=my_tags))\n",
    "\n",
    "conf_mat = confusion_matrix(y_true=y_test, y_pred=y_pred)\n",
    "print('Confusion matrix:\\n', conf_mat)\n",
    "\n",
    "labels = ['Agreement', 'Deeds','Human Resources','Taxes','Valuations']\n",
    "fig = plt.figure()\n",
    "ax = fig.add_subplot(111)\n",
    "cax = ax.matshow(conf_mat, cmap=plt.cm.Blues)\n",
    "fig.colorbar(cax)\n",
    "ax.set_xticklabels([''] + labels)\n",
    "ax.set_yticklabels([''] + labels)\n",
    "plt.xlabel('Predicted')\n",
    "plt.ylabel('Expected')\n",
    "plt.show()"
   ]
  },
  {
   "cell_type": "code",
   "execution_count": 36,
   "id": "4c5d44a1-eceb-4e35-b60a-e49d8b2388ec",
   "metadata": {},
   "outputs": [],
   "source": [
    "pickle.dump(clf, open('nbmodel.pkl','wb'))"
   ]
  },
  {
   "cell_type": "code",
   "execution_count": 37,
   "id": "ed7d302e-f8da-4a67-94fc-a4d5a4e34a0c",
   "metadata": {},
   "outputs": [
    {
     "name": "stdout",
     "output_type": "stream",
     "text": [
      "Accuracy: 0.9479553903345725\n",
      "                 precision    recall  f1-score   support\n",
      "\n",
      "     Agreements       0.99      0.86      0.92       163\n",
      "          Deeds       0.98      0.99      0.98       166\n",
      "          Taxes       0.80      0.99      0.88       151\n",
      "Human Resources       0.99      0.97      0.98       151\n",
      "     Valuations       1.00      0.94      0.97       176\n",
      "\n",
      "       accuracy                           0.95       807\n",
      "      macro avg       0.95      0.95      0.95       807\n",
      "   weighted avg       0.96      0.95      0.95       807\n",
      "\n",
      "Confusion matrix:\n",
      " [[140   0  23   0   0]\n",
      " [  0 164   2   0   0]\n",
      " [  1   0 149   1   0]\n",
      " [  0   0   4 147   0]\n",
      " [  0   3   8   0 165]]\n"
     ]
    },
    {
     "data": {
      "image/png": "[encoded data removed]",
      "text/plain": [
       "<Figure size 640x480 with 2 Axes>"
      ]
     },
     "metadata": {},
     "output_type": "display_data"
    }
   ],
   "source": [
    "from xgboost import XGBClassifier\n",
    "from sklearn.metrics import accuracy_score\n",
    "xgb = XGBClassifier()\n",
    "xgb.fit(X_train, y_train)\n",
    "y_pred = xgb.predict(X_test)\n",
    "\n",
    "accuracy = accuracy_score(y_test, y_pred)\n",
    "print(\"Accuracy: %s\" % (accuracy))\n",
    "print(classification_report(y_test, y_pred,target_names=my_tags))\n",
    "\n",
    "conf_mat = confusion_matrix(y_true=y_test, y_pred=y_pred)\n",
    "print('Confusion matrix:\\n', conf_mat)\n",
    "\n",
    "labels = ['Agreement', 'Deeds','Human Resources','Taxes','Valuations']\n",
    "fig = plt.figure()\n",
    "ax = fig.add_subplot(111)\n",
    "cax = ax.matshow(conf_mat, cmap=plt.cm.Blues)\n",
    "fig.colorbar(cax)\n",
    "ax.set_xticklabels([''] + labels)\n",
    "ax.set_yticklabels([''] + labels)\n",
    "plt.xlabel('Predicted')\n",
    "plt.ylabel('Expected')\n",
    "plt.show()"
   ]
  },
  {
   "cell_type": "code",
   "execution_count": 38,
   "id": "a1e9eff3-4721-4b45-bacd-e2a1dde5fd53",
   "metadata": {},
   "outputs": [],
   "source": [
    "pickle.dump(xgb, open('xgbmodel.pkl','wb'))"
   ]
  },
  {
   "cell_type": "markdown",
   "id": "6620f798-fd6f-4a26-975a-628f03eb1c85",
   "metadata": {},
   "source": [
    "Word2Vec model"
   ]
  },
  {
   "cell_type": "code",
   "execution_count": 39,
   "id": "7c2b3b51-baff-4666-af20-611964cd23e3",
   "metadata": {},
   "outputs": [],
   "source": [
    "import os\n",
    "import gensim\n",
    "from gensim.models import Word2Vec\n",
    "file_path = os.path.join(os.getcwd(),\"GoogleNews-vectors-negative300.bin.gz\")\n",
    "wv = gensim.models.KeyedVectors.load_word2vec_format(file_path, binary=True) # Pre-trained word vectors\n",
    "# wv.init_sims(replace=True)"
   ]
  },
  {
   "cell_type": "code",
   "execution_count": 40,
   "id": "deace5eb-d075-4f0b-a5ae-c17cb8f5a817",
   "metadata": {},
   "outputs": [
    {
     "data": {
      "text/plain": [
       "2005"
      ]
     },
     "execution_count": 40,
     "metadata": {},
     "output_type": "execute_result"
    }
   ],
   "source": [
    "finalframe['Text_Data'].apply(lambda x: len(x.split(' '))).sum()\n",
    "finalframe['Identifiers'].apply(lambda x: len(x.split(' '))).sum()"
   ]
  },
  {
   "cell_type": "code",
   "execution_count": 41,
   "id": "fd0d47a4-4b28-468b-93fc-2ebca0307df2",
   "metadata": {},
   "outputs": [],
   "source": [
    "# Defining function to assign vectors from pre-trained model\n",
    "def word_averaging(wv, words):\n",
    "    all_words, mean = set(), []\n",
    "    \n",
    "    for word in words:\n",
    "        if isinstance(word, np.ndarray):\n",
    "            mean.append(word)\n",
    "        elif word in wv.key_to_index:\n",
    "            mean.append(wv.vectors[wv.key_to_index[word]])\n",
    "            all_words.add(wv.key_to_index[word])\n",
    "\n",
    "    if not mean:\n",
    "        return np.zeros(wv.vector_size,)\n",
    "\n",
    "    mean = gensim.matutils.unitvec(np.array(mean).mean(axis=0)).astype(np.float32)\n",
    "    return mean\n",
    "\n",
    "def  word_averaging_list(wv, text_list):\n",
    "    return np.vstack([word_averaging(wv, post) for post in text_list ])"
   ]
  },
  {
   "cell_type": "code",
   "execution_count": 42,
   "id": "66c6caf6-890b-4689-8b3e-c52ce81317c3",
   "metadata": {},
   "outputs": [],
   "source": [
    "#function to split indiviual words from the sentences\n",
    "def w2v_tokenize_text(text):\n",
    "    tokens = []\n",
    "    for sent in nltk.sent_tokenize(text, language='english'):\n",
    "        for word in nltk.word_tokenize(sent, language='english'):\n",
    "            if len(word) < 2 and len(word) > 12:\n",
    "                continue\n",
    "            tokens.append(word)\n",
    "    return tokens"
   ]
  },
  {
   "cell_type": "code",
   "execution_count": 43,
   "id": "c73b210a-c075-4b41-8444-3db49e48a881",
   "metadata": {},
   "outputs": [],
   "source": [
    "import nltk\n",
    "train, test = train_test_split(finalframe, test_size=0.3, random_state = 42)\n",
    "test_tokenized = test.apply(lambda r: w2v_tokenize_text(r['Text_Data']), axis=1).values\n",
    "label_test_tokenized = test.apply(lambda r: w2v_tokenize_text(r['Category']), axis=1).values\n",
    "train_tokenized = train.apply(lambda r: w2v_tokenize_text(r['Text_Data']), axis=1).values"
   ]
  },
  {
   "cell_type": "code",
   "execution_count": 44,
   "id": "d54b1af6-a32c-4074-8fb6-91a8275945c2",
   "metadata": {},
   "outputs": [],
   "source": [
    "import numpy as np\n",
    "X_train_word_average = word_averaging_list(wv,train_tokenized)\n",
    "X_test_word_average = word_averaging_list(wv,test_tokenized)\n",
    "y_test_word_average = word_averaging_list(wv,label_test_tokenized)"
   ]
  },
  {
   "cell_type": "code",
   "execution_count": 45,
   "id": "8c84982d-4bb8-482a-a864-ad399279653f",
   "metadata": {},
   "outputs": [],
   "source": [
    "from sklearn.linear_model import LogisticRegression\n",
    "logreg = LogisticRegression(n_jobs=1, C=1e5)\n",
    "logreg = logreg.fit(X_train_word_average, train['Category'])\n",
    "y_pred = logreg.predict(X_test_word_average)"
   ]
  },
  {
   "cell_type": "code",
   "execution_count": 46,
   "id": "ca56141a-81c7-40f8-ba80-3259e96d5701",
   "metadata": {},
   "outputs": [
    {
     "name": "stdout",
     "output_type": "stream",
     "text": [
      "accuracy 0.9352159468438538\n",
      "                 precision    recall  f1-score   support\n",
      "\n",
      "     Agreements       0.91      0.81      0.86        26\n",
      "          Deeds       0.84      0.96      0.89        71\n",
      "          Taxes       0.93      0.98      0.95       244\n",
      "Human Resources       0.98      0.88      0.93       136\n",
      "     Valuations       0.98      0.92      0.95       125\n",
      "\n",
      "       accuracy                           0.94       602\n",
      "      macro avg       0.93      0.91      0.92       602\n",
      "   weighted avg       0.94      0.94      0.94       602\n",
      "\n"
     ]
    }
   ],
   "source": [
    "from sklearn.metrics import accuracy_score, confusion_matrix\n",
    "from sklearn.metrics import classification_report\n",
    "print('accuracy %s' % accuracy_score(y_pred, test.Category))\n",
    "print(classification_report(test.Category, y_pred,target_names=my_tags))"
   ]
  },
  {
   "cell_type": "code",
   "execution_count": 47,
   "id": "9c6c1720-ae66-4188-a5b6-822bfb108159",
   "metadata": {},
   "outputs": [],
   "source": [
    "pickle.dump(logreg, open('w2vmodel.pkl','wb'))"
   ]
  },
  {
   "cell_type": "code",
   "execution_count": 48,
   "id": "e208f6ac-c411-4f26-8477-fcf56ae7f466",
   "metadata": {},
   "outputs": [],
   "source": [
    "from tqdm import tqdm\n",
    "tqdm.pandas(desc=\"progress-bar\")\n",
    "from gensim.models.doc2vec import Doc2Vec, TaggedDocument\n",
    "from gensim.models import doc2vec\n",
    "from sklearn import utils\n",
    "import gensim\n",
    "import re\n",
    "from gensim.models.doc2vec import TaggedDocument\n"
   ]
  },
  {
   "cell_type": "code",
   "execution_count": 49,
   "id": "f78a95f6-685d-456d-b18f-bf909d92fc3c",
   "metadata": {},
   "outputs": [],
   "source": [
    "def label_sentences(corpus, label_type):\n",
    "    labeled = []\n",
    "    for i, v in enumerate(corpus):\n",
    "        label = label_type + '_' + str(i)\n",
    "        labeled.append(doc2vec.TaggedDocument(v.split(), [label]))\n",
    "    return labeled"
   ]
  },
  {
   "cell_type": "code",
   "execution_count": 50,
   "id": "f94d55aa-32d4-4470-b1bf-812d2ef21901",
   "metadata": {},
   "outputs": [],
   "source": [
    "# LabeledSentence = gensim.models.deprecated.doc2vec.LabeledSentence\n",
    "X_train, X_test, y_train, y_test = train_test_split(finalframe.Text_Data, finalframe.Category, random_state=2, test_size=0.3)\n",
    "X_train = label_sentences(X_train, 'Train')\n",
    "X_test = label_sentences(X_test, 'Test')\n",
    "all_data = X_train + X_test"
   ]
  },
  {
   "cell_type": "code",
   "execution_count": 51,
   "id": "7d87f145-8de4-4383-9481-8d036055073a",
   "metadata": {},
   "outputs": [
    {
     "data": {
      "text/plain": [
       "[TaggedDocument(words=['page', 'step', 'design', 'implement', 'career', 'development', 'strategies', 'strategic', 'leadership', 'team', 'evaluated', 'bench', 'strength', 'prioritized', 'key', 'leadership', 'positions', 'attention', 'shifts', 'continued', 'career', 'development', 'employees', 'determined', 'eligible', 'potentially', 'eligible', 'positions', 'step', 'succession', 'planning', 'process', 'focused', 'helping', 'employees', 'managers', 'discuss', 'career', 'development', 'plans', 'discussing', 'encouraging', 'career', 'development', 'employees', 'important', 'part', 'management', 'however', 'purpose', 'succession', 'planning', 'increasing', 'bench', 'strength', 'specified', 'areas', 'selection', 'subset', 'employees', 'upon', 'focus', 'career', 'development', 'efforts', 'necessary', 'annual', 'performance', 'review', 'session', 'provides', 'excellent', 'opportunity', 'begin', 'discussions', 'career', 'development', 'goal', 'opportunities', 'however', 'managers', 'need', 'keep', 'mind', 'clarify', 'employee', 'goals', 'purpose', 'career', 'development', 'discussion', 'separate', 'distinct', 'justcompleted', 'performance', 'review', 'performance', 'management', 'focused', 'past', 'years', 'goals', 'objectives', 'career', 'development', 'discussion', 'focused', 'future', 'career', 'opportunities', 'upon', 'completing', 'employees', 'annual', 'performance', 'review', 'manager', 'initiate', 'discussion', 'employees', 'career', 'interests', 'well', 'career', 'development', 'options', 'possible', 'barriers', 'career', 'movement', 'managers', 'assist', 'employees', 'setting', 'appropriate', 'career', 'goals', 'providing', 'feedback', 'based', 'observation', 'assessment', 'employees', 'abilities', 'potential', 'assessment', 'based', 'actual', 'experience', 'observation', 'employees', 'knowledge', 'skills', 'experience', 'assumption', 'personal', 'biases'], tags=['Train_2']),\n",
       " TaggedDocument(words=['execute', 'deliver', 'parent', 'promptly', 'upon', 'reasonable', 'request', 'powers', 'attorney', 'authorizing', 'parent', 'extend', 'statutes', 'limitations', 'receive', 'refunds', 'negotiate', 'audit', 'settlements', 'subject', 'companys', 'rights', 'section', 'take', 'actions', 'parent', 'reasonably', 'considers', 'appropriate', 'exercising', 'control', 'rights', 'pursuant', 'section', 'article', 'viii', 'termination', 'liabilities', 'except', 'liabilities', 'attributable', 'items', 'contested', 'parent', 'company', 'pursuant', 'article', 'vii', 'notwithstanding', 'provision', 'agreement', 'liabilities', 'parent', 'company', 'agreement', 'terminate', 'tenth', 'th', 'anniversary', 'closing', 'date', 'article', 'ix', 'general', 'provisions', 'notices', 'notices', 'requests', 'demands', 'communications', 'required', 'may', 'given', 'agreement', 'writing', 'deemed', 'duly', 'given', 'received', 'personally', 'delivered', 'transmitted', 'transmitted', 'telecopy', 'electronic', 'digital', 'transmission', 'method', 'day', 'sent', 'sent', 'next', 'day', 'delivery', 'domestic', 'address', 'recognized', 'overnight', 'delivery', 'service', 'eg', 'federal', 'express', 'upon', 'receipt', 'sent', 'certified', 'registered', 'mail', 'return', 'receipt', 'requested', 'case', 'notice', 'sent', 'parent', 'co', 'weider', 'health', 'fitness', 'erwin', 'street', 'woodland', 'hills', 'ca'], tags=['Train_3'])]"
      ]
     },
     "execution_count": 51,
     "metadata": {},
     "output_type": "execute_result"
    }
   ],
   "source": [
    "X_train[2:4]"
   ]
  },
  {
   "cell_type": "code",
   "execution_count": 52,
   "id": "8e5c6897-472d-450e-805b-0e5fd0b83000",
   "metadata": {},
   "outputs": [
    {
     "name": "stderr",
     "output_type": "stream",
     "text": [
      "100%|██████████████████████████████████████████████████████████████████████████████████████| 2005/2005 [00:00<?, ?it/s]\n"
     ]
    }
   ],
   "source": [
    "model_dbow = Doc2Vec()\n",
    "model_dbow.build_vocab([x for x in tqdm(all_data)])"
   ]
  },
  {
   "cell_type": "code",
   "execution_count": 53,
   "id": "d0ffa7d1-dc31-4b57-b9c7-a493dd976a68",
   "metadata": {},
   "outputs": [
    {
     "name": "stderr",
     "output_type": "stream",
     "text": [
      "100%|██████████████████████████████████████████████████████████████████████████| 2005/2005 [00:00<00:00, 419723.47it/s]\n",
      "100%|██████████████████████████████████████████████████████████████████████████████████████| 2005/2005 [00:00<?, ?it/s]\n",
      "WARNING:gensim.models.word2vec:Effective 'alpha' higher than previous training cycles\n",
      "100%|██████████████████████████████████████████████████████████████████████████████████████| 2005/2005 [00:00<?, ?it/s]\n",
      "100%|██████████████████████████████████████████████████████████████████████████| 2005/2005 [00:00<00:00, 534586.45it/s]\n",
      "100%|██████████████████████████████████████████████████████████████████████████████████████| 2005/2005 [00:00<?, ?it/s]\n",
      "100%|██████████████████████████████████████████████████████████████████████████| 2005/2005 [00:00<00:00, 285826.24it/s]\n",
      "100%|██████████████████████████████████████████████████████████████████████████| 2005/2005 [00:00<00:00, 620587.38it/s]\n",
      "100%|██████████████████████████████████████████████████████████████████████████| 2005/2005 [00:00<00:00, 367776.59it/s]\n",
      "100%|██████████████████████████████████████████████████████████████████████████| 2005/2005 [00:00<00:00, 409943.43it/s]\n",
      "100%|██████████████████████████████████████████████████████████████████████████| 2005/2005 [00:00<00:00, 963959.14it/s]\n",
      "100%|██████████████████████████████████████████████████████████████████████████████████████| 2005/2005 [00:00<?, ?it/s]\n",
      "100%|██████████████████████████████████████████████████████████████████████████████████████| 2005/2005 [00:00<?, ?it/s]\n",
      "100%|██████████████████████████████████████████████████████████████████████████| 2005/2005 [00:00<00:00, 266522.34it/s]\n",
      "100%|██████████████████████████████████████████████████████████████████████████████████████| 2005/2005 [00:00<?, ?it/s]\n",
      "100%|██████████████████████████████████████████████████████████████████████████████████████| 2005/2005 [00:00<?, ?it/s]\n",
      "100%|██████████████████████████████████████████████████████████████████████████████████████| 2005/2005 [00:00<?, ?it/s]\n",
      "100%|██████████████████████████████████████████████████████████████████████████| 2005/2005 [00:00<00:00, 249928.06it/s]\n",
      "100%|██████████████████████████████████████████████████████████████████████████| 2005/2005 [00:00<00:00, 253629.08it/s]\n",
      "100%|██████████████████████████████████████████████████████████████████████████| 2005/2005 [00:00<00:00, 370809.10it/s]\n",
      "100%|██████████████████████████████████████████████████████████████████████████| 2005/2005 [00:00<00:00, 478605.63it/s]\n",
      "100%|██████████████████████████████████████████████████████████████████████████████████████| 2005/2005 [00:00<?, ?it/s]\n",
      "100%|██████████████████████████████████████████████████████████████████████████████████████| 2005/2005 [00:00<?, ?it/s]\n",
      "100%|██████████████████████████████████████████████████████████████████████████| 2005/2005 [00:00<00:00, 885125.73it/s]\n",
      "100%|██████████████████████████████████████████████████████████████████████████████████████| 2005/2005 [00:00<?, ?it/s]\n",
      "100%|██████████████████████████████████████████████████████████████████████████| 2005/2005 [00:00<00:00, 238671.19it/s]\n",
      "100%|██████████████████████████████████████████████████████████████████████████| 2005/2005 [00:00<00:00, 666580.49it/s]\n",
      "100%|██████████████████████████████████████████████████████████████████████████| 2005/2005 [00:00<00:00, 664368.74it/s]\n",
      "100%|██████████████████████████████████████████████████████████████████████████████████████| 2005/2005 [00:00<?, ?it/s]\n",
      "100%|██████████████████████████████████████████████████████████████████████████| 2005/2005 [00:00<00:00, 265588.03it/s]\n",
      "100%|██████████████████████████████████████████████████████████████████████████| 2005/2005 [00:00<00:00, 668169.36it/s]\n",
      "100%|██████████████████████████████████████████████████████████████████████████| 2005/2005 [00:00<00:00, 248194.66it/s]\n",
      "100%|██████████████████████████████████████████████████████████████████████████| 2005/2005 [00:00<00:00, 502304.36it/s]\n",
      "100%|██████████████████████████████████████████████████████████████████████████████████████| 2005/2005 [00:00<?, ?it/s]\n",
      "100%|██████████████████████████████████████████████████████████████████████████| 2005/2005 [00:00<00:00, 372930.36it/s]\n",
      "100%|██████████████████████████████████████████████████████████████████████████| 2005/2005 [00:00<00:00, 742371.07it/s]\n",
      "100%|██████████████████████████████████████████████████████████████████████████████████████| 2005/2005 [00:00<?, ?it/s]\n",
      "100%|██████████████████████████████████████████████████████████████████████████| 2005/2005 [00:00<00:00, 630923.51it/s]\n",
      "100%|██████████████████████████████████████████████████████████████████████████████████████| 2005/2005 [00:00<?, ?it/s]\n",
      "100%|██████████████████████████████████████████████████████████████████████████| 2005/2005 [00:00<00:00, 250620.76it/s]\n",
      "100%|██████████████████████████████████████████████████████████████████████████| 2005/2005 [00:00<00:00, 249320.47it/s]\n",
      "100%|██████████████████████████████████████████████████████████████████████████████████████| 2005/2005 [00:00<?, ?it/s]\n",
      "100%|██████████████████████████████████████████████████████████████████████████████████████| 2005/2005 [00:00<?, ?it/s]\n",
      "100%|██████████████████████████████████████████████████████████████████████████| 2005/2005 [00:00<00:00, 713280.71it/s]\n",
      "100%|██████████████████████████████████████████████████████████████████████████████████████| 2005/2005 [00:00<?, ?it/s]\n",
      "100%|█████████████████████████████████████████████████████████████████████████| 2005/2005 [00:00<00:00, 1928360.36it/s]\n"
     ]
    }
   ],
   "source": [
    "for epoch in range(45):\n",
    "    model_dbow.train(utils.shuffle([x for x in tqdm(all_data)]), total_examples=len(all_data), epochs=1)\n",
    "    model_dbow.alpha -= 0.002\n",
    "    model_dbow.min_alpha = model_dbow.alpha"
   ]
  },
  {
   "cell_type": "code",
   "execution_count": 54,
   "id": "8c941748-6829-413d-99df-461be9c74b27",
   "metadata": {},
   "outputs": [],
   "source": [
    "def get_vectors(model, corpus_size, vectors_size, vectors_type):\n",
    "    vectors = np.zeros((corpus_size, vectors_size))\n",
    "    for i in range(0, corpus_size):\n",
    "        prefix = vectors_type + '_' + str(i)\n",
    "        vectors[i] = model.docvecs[prefix]\n",
    "    return vectors"
   ]
  },
  {
   "cell_type": "code",
   "execution_count": 55,
   "id": "18f2731c-cb6a-48d4-9620-226a1fc06104",
   "metadata": {},
   "outputs": [],
   "source": [
    "train_vectors_dbow = get_vectors(model_dbow, len(X_train), 100, 'Train')\n",
    "test_vectors_dbow = get_vectors(model_dbow, len(X_test), 100, 'Test')"
   ]
  },
  {
   "cell_type": "code",
   "execution_count": 56,
   "id": "df6b2845-73a0-4aed-8f4e-8970ac77926c",
   "metadata": {},
   "outputs": [
    {
     "data": {
      "text/html": [
       "<style>#sk-container-id-1 {color: black;background-color: white;}#sk-container-id-1 pre{padding: 0;}#sk-container-id-1 div.sk-toggleable {background-color: white;}#sk-container-id-1 label.sk-toggleable__label {cursor: pointer;display: block;width: 100%;margin-bottom: 0;padding: 0.3em;box-sizing: border-box;text-align: center;}#sk-container-id-1 label.sk-toggleable__label-arrow:before {content: \"▸\";float: left;margin-right: 0.25em;color: #696969;}#sk-container-id-1 label.sk-toggleable__label-arrow:hover:before {color: black;}#sk-container-id-1 div.sk-estimator:hover label.sk-toggleable__label-arrow:before {color: black;}#sk-container-id-1 div.sk-toggleable__content {max-height: 0;max-width: 0;overflow: hidden;text-align: left;background-color: #f0f8ff;}#sk-container-id-1 div.sk-toggleable__content pre {margin: 0.2em;color: black;border-radius: 0.25em;background-color: #f0f8ff;}#sk-container-id-1 input.sk-toggleable__control:checked~div.sk-toggleable__content {max-height: 200px;max-width: 100%;overflow: auto;}#sk-container-id-1 input.sk-toggleable__control:checked~label.sk-toggleable__label-arrow:before {content: \"▾\";}#sk-container-id-1 div.sk-estimator input.sk-toggleable__control:checked~label.sk-toggleable__label {background-color: #d4ebff;}#sk-container-id-1 div.sk-label input.sk-toggleable__control:checked~label.sk-toggleable__label {background-color: #d4ebff;}#sk-container-id-1 input.sk-hidden--visually {border: 0;clip: rect(1px 1px 1px 1px);clip: rect(1px, 1px, 1px, 1px);height: 1px;margin: -1px;overflow: hidden;padding: 0;position: absolute;width: 1px;}#sk-container-id-1 div.sk-estimator {font-family: monospace;background-color: #f0f8ff;border: 1px dotted black;border-radius: 0.25em;box-sizing: border-box;margin-bottom: 0.5em;}#sk-container-id-1 div.sk-estimator:hover {background-color: #d4ebff;}#sk-container-id-1 div.sk-parallel-item::after {content: \"\";width: 100%;border-bottom: 1px solid gray;flex-grow: 1;}#sk-container-id-1 div.sk-label:hover label.sk-toggleable__label {background-color: #d4ebff;}#sk-container-id-1 div.sk-serial::before {content: \"\";position: absolute;border-left: 1px solid gray;box-sizing: border-box;top: 0;bottom: 0;left: 50%;z-index: 0;}#sk-container-id-1 div.sk-serial {display: flex;flex-direction: column;align-items: center;background-color: white;padding-right: 0.2em;padding-left: 0.2em;position: relative;}#sk-container-id-1 div.sk-item {position: relative;z-index: 1;}#sk-container-id-1 div.sk-parallel {display: flex;align-items: stretch;justify-content: center;background-color: white;position: relative;}#sk-container-id-1 div.sk-item::before, #sk-container-id-1 div.sk-parallel-item::before {content: \"\";position: absolute;border-left: 1px solid gray;box-sizing: border-box;top: 0;bottom: 0;left: 50%;z-index: -1;}#sk-container-id-1 div.sk-parallel-item {display: flex;flex-direction: column;z-index: 1;position: relative;background-color: white;}#sk-container-id-1 div.sk-parallel-item:first-child::after {align-self: flex-end;width: 50%;}#sk-container-id-1 div.sk-parallel-item:last-child::after {align-self: flex-start;width: 50%;}#sk-container-id-1 div.sk-parallel-item:only-child::after {width: 0;}#sk-container-id-1 div.sk-dashed-wrapped {border: 1px dashed gray;margin: 0 0.4em 0.5em 0.4em;box-sizing: border-box;padding-bottom: 0.4em;background-color: white;}#sk-container-id-1 div.sk-label label {font-family: monospace;font-weight: bold;display: inline-block;line-height: 1.2em;}#sk-container-id-1 div.sk-label-container {text-align: center;}#sk-container-id-1 div.sk-container {/* jupyter's `normalize.less` sets `[hidden] { display: none; }` but bootstrap.min.css set `[hidden] { display: none !important; }` so we also need the `!important` here to be able to override the default hidden behavior on the sphinx rendered scikit-learn.org. See: https://github.com/scikit-learn/scikit-learn/issues/21755 */display: inline-block !important;position: relative;}#sk-container-id-1 div.sk-text-repr-fallback {display: none;}</style><div id=\"sk-container-id-1\" class=\"sk-top-container\"><div class=\"sk-text-repr-fallback\"><pre>LogisticRegression()</pre><b>In a Jupyter environment, please rerun this cell to show the HTML representation or trust the notebook. <br />On GitHub, the HTML representation is unable to render, please try loading this page with nbviewer.org.</b></div><div class=\"sk-container\" hidden><div class=\"sk-item\"><div class=\"sk-estimator sk-toggleable\"><input class=\"sk-toggleable__control sk-hidden--visually\" id=\"sk-estimator-id-1\" type=\"checkbox\" checked><label for=\"sk-estimator-id-1\" class=\"sk-toggleable__label sk-toggleable__label-arrow\">LogisticRegression</label><div class=\"sk-toggleable__content\"><pre>LogisticRegression()</pre></div></div></div></div></div>"
      ],
      "text/plain": [
       "LogisticRegression()"
      ]
     },
     "execution_count": 56,
     "metadata": {},
     "output_type": "execute_result"
    }
   ],
   "source": [
    "logreg = LogisticRegression()\n",
    "logreg.fit(train_vectors_dbow, y_train)"
   ]
  },
  {
   "cell_type": "code",
   "execution_count": 57,
   "id": "8fdd42e9-9f5e-4ad5-b746-57a0a3654758",
   "metadata": {},
   "outputs": [],
   "source": [
    "logreg = logreg.fit(train_vectors_dbow, y_train)\n",
    "y_pred = logreg.predict(test_vectors_dbow)"
   ]
  },
  {
   "cell_type": "code",
   "execution_count": 58,
   "id": "318c58c2-5123-4d73-9d7e-7df7caf2e19e",
   "metadata": {},
   "outputs": [
    {
     "name": "stdout",
     "output_type": "stream",
     "text": [
      "accuracy 0.8571428571428571\n",
      "                 precision    recall  f1-score   support\n",
      "\n",
      "     Agreements       0.96      0.71      0.81        34\n",
      "          Deeds       0.83      0.60      0.70        63\n",
      "          Taxes       0.80      0.98      0.88       258\n",
      "Human Resources       0.96      0.87      0.91       126\n",
      "     Valuations       0.90      0.77      0.83       121\n",
      "\n",
      "       accuracy                           0.86       602\n",
      "      macro avg       0.89      0.78      0.83       602\n",
      "   weighted avg       0.87      0.86      0.85       602\n",
      "\n"
     ]
    }
   ],
   "source": [
    "print('accuracy %s' % accuracy_score(y_pred, y_test))\n",
    "print(classification_report(y_test, y_pred,target_names=my_tags))"
   ]
  },
  {
   "cell_type": "markdown",
   "id": "cd2f4ed2-c4b6-4a98-91e2-b4de108ea5ba",
   "metadata": {},
   "source": [
    "Demo of the trained model in action"
   ]
  },
  {
   "cell_type": "code",
   "execution_count": 94,
   "id": "1aa091c8-bdfd-4d6e-9945-a0191e816f49",
   "metadata": {},
   "outputs": [],
   "source": [
    "savedmodel = pickle.load(open('nbmodel.pkl','rb'))\n",
    "demofile = 'demo1.pdf'"
   ]
  },
  {
   "cell_type": "code",
   "execution_count": 88,
   "id": "2b91f481-07a3-4674-a165-f16ee41acba6",
   "metadata": {},
   "outputs": [],
   "source": [
    "# Parsing through the sample document and extracting the textual data\n",
    "def convert2txt():\n",
    "    alltexts = []\n",
    "    with open(demofile, 'rb') as fh:\n",
    "        rsrcmgr = PDFResourceManager()\n",
    "        retstr = StringIO()\n",
    "        codec = 'utf-8'\n",
    "        laparams = LAParams()\n",
    "        device = TextConverter(rsrcmgr, retstr,laparams=LAParams())\n",
    "        fp = open(demofile, 'rb')\n",
    "        interpreter = PDFPageInterpreter(rsrcmgr, device)\n",
    "        password = \"\"\n",
    "        maxpages = 0\n",
    "        caching = True\n",
    "        pagenos=set()\n",
    "\n",
    "        for page in PDFPage.get_pages(fp, pagenos, maxpages=maxpages, password=password,caching=caching, check_extractable=True):\n",
    "            interpreter.process_page(page)\n",
    "\n",
    "        text = retstr.getvalue()\n",
    "        alltexts.append(text)\n",
    "        fp.close()\n",
    "        device.close()\n",
    "        retstr.close()\n",
    "        \n",
    "    return alltexts "
   ]
  },
  {
   "cell_type": "markdown",
   "id": "2f7cdaad",
   "metadata": {},
   "source": [
    "pip install --upgrade gensim --user"
   ]
  },
  {
   "cell_type": "code",
   "execution_count": 89,
   "id": "e675f45d-ac20-4a86-91e9-688763097b18",
   "metadata": {},
   "outputs": [],
   "source": [
    "textdata = convert2txt()"
   ]
  },
  {
   "cell_type": "code",
   "execution_count": 90,
   "id": "5ad78c6c-c1aa-4f11-8d8d-3b3322d41cfd",
   "metadata": {},
   "outputs": [],
   "source": [
    "# Feature engineering to get the data in right format\n",
    "dfdemo = pd.DataFrame(textdata, columns = ['Data'])\n",
    "dfdemo['Data'] = dfdemo['Data'].apply(lambda x: \" \".join(x.lower() for x in x.split())) # lower case conversion\n",
    "dfdemo['Data'] = dfdemo['Data'].str.replace('[^\\w\\s]','') # getting rid of special characters\n",
    "dfdemo['Data'] = dfdemo['Data'].str.replace('\\d+', '') # removing numeric values from between the words\n",
    "dfdemo['Data'] = dfdemo['Data'].apply(lambda x: x.translate(string.digits)) # removing numerical numbers\n",
    "stop = stopwords.words('english')\n",
    "dfdemo['Data'] = dfdemo['Data'].apply(lambda x: \" \".join(x for x in x.split() if x not in stop)) #removing stop words\n",
    "stemmer = WordNetLemmatizer()\n",
    "dfdemo['Data'] = [stemmer.lemmatize(word) for word in dfdemo['Data']]"
   ]
  },
  {
   "cell_type": "code",
   "execution_count": 93,
   "id": "92b322e1-66a5-4147-b9ea-8a2ea0c8bb1e",
   "metadata": {},
   "outputs": [
    {
     "data": {
      "text/html": [
       "<div>\n",
       "<style scoped>\n",
       "    .dataframe tbody tr th:only-of-type {\n",
       "        vertical-align: middle;\n",
       "    }\n",
       "\n",
       "    .dataframe tbody tr th {\n",
       "        vertical-align: top;\n",
       "    }\n",
       "\n",
       "    .dataframe thead th {\n",
       "        text-align: right;\n",
       "    }\n",
       "</style>\n",
       "<table border=\"1\" class=\"dataframe\">\n",
       "  <thead>\n",
       "    <tr style=\"text-align: right;\">\n",
       "      <th></th>\n",
       "      <th>0</th>\n",
       "      <th>1</th>\n",
       "      <th>2</th>\n",
       "      <th>3</th>\n",
       "      <th>4</th>\n",
       "      <th>5</th>\n",
       "      <th>6</th>\n",
       "      <th>7</th>\n",
       "      <th>8</th>\n",
       "      <th>9</th>\n",
       "      <th>...</th>\n",
       "      <th>990</th>\n",
       "      <th>991</th>\n",
       "      <th>992</th>\n",
       "      <th>993</th>\n",
       "      <th>994</th>\n",
       "      <th>995</th>\n",
       "      <th>996</th>\n",
       "      <th>997</th>\n",
       "      <th>998</th>\n",
       "      <th>999</th>\n",
       "    </tr>\n",
       "  </thead>\n",
       "  <tbody>\n",
       "    <tr>\n",
       "      <th>0</th>\n",
       "      <td>0.002158</td>\n",
       "      <td>0.004316</td>\n",
       "      <td>0.01079</td>\n",
       "      <td>0.01079</td>\n",
       "      <td>0.004316</td>\n",
       "      <td>0.004316</td>\n",
       "      <td>0.004316</td>\n",
       "      <td>0.004316</td>\n",
       "      <td>0.008632</td>\n",
       "      <td>0.012948</td>\n",
       "      <td>...</td>\n",
       "      <td>0.004316</td>\n",
       "      <td>0.002158</td>\n",
       "      <td>0.021581</td>\n",
       "      <td>0.017265</td>\n",
       "      <td>0.004316</td>\n",
       "      <td>0.006474</td>\n",
       "      <td>0.021581</td>\n",
       "      <td>0.012948</td>\n",
       "      <td>0.019423</td>\n",
       "      <td>0.004316</td>\n",
       "    </tr>\n",
       "  </tbody>\n",
       "</table>\n",
       "<p>1 rows × 1000 columns</p>\n",
       "</div>"
      ],
      "text/plain": [
       "        0         1        2        3         4         5         6    \\\n",
       "0  0.002158  0.004316  0.01079  0.01079  0.004316  0.004316  0.004316   \n",
       "\n",
       "        7         8         9    ...       990       991       992       993  \\\n",
       "0  0.004316  0.008632  0.012948  ...  0.004316  0.002158  0.021581  0.017265   \n",
       "\n",
       "        994       995       996       997       998       999  \n",
       "0  0.004316  0.006474  0.021581  0.012948  0.019423  0.004316  \n",
       "\n",
       "[1 rows x 1000 columns]"
      ]
     },
     "execution_count": 93,
     "metadata": {},
     "output_type": "execute_result"
    }
   ],
   "source": [
    "# Assigning vectors to the input data\n",
    "tfidfconverter = TfidfVectorizer(max_features=1000, stop_words=stopwords.words('english'))\n",
    "inputs = pd.DataFrame(tfidfconverter.fit_transform(dfdemo['Data']).toarray())\n",
    "inputs"
   ]
  },
  {
   "cell_type": "code",
   "execution_count": 96,
   "id": "3c1e63ae-c347-4256-bb08-9b0f905c6b6c",
   "metadata": {},
   "outputs": [
    {
     "data": {
      "text/plain": [
       "array(['Human Resources'], dtype=object)"
      ]
     },
     "execution_count": 96,
     "metadata": {},
     "output_type": "execute_result"
    }
   ],
   "source": [
    "# Predicting the category of the input file with the help of trained model\n",
    "\n",
    "output_category = savedmodel.predict(inputs)\n",
    "#Comment the next line if you are testing word2vec model as it doesn't require transformation\n",
    "output_category = (labelencoder.inverse_transform((output_category)))\n",
    "output_category"
   ]
  }
 ],
 "metadata": {
  "kernelspec": {
   "display_name": "Python 3 (ipykernel)",
   "language": "python",
   "name": "python3"
  },
  "language_info": {
   "codemirror_mode": {
    "name": "ipython",
    "version": 3
   },
   "file_extension": ".py",
   "mimetype": "text/x-python",
   "name": "python",
   "nbconvert_exporter": "python",
   "pygments_lexer": "ipython3",
   "version": "3.10.9"
  }
 },
 "nbformat": 4,
 "nbformat_minor": 5
}
